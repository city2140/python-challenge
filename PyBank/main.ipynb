{
 "cells": [
  {
   "cell_type": "code",
   "execution_count": 1,
   "id": "01574e57-2554-46ee-bf0c-c4ecc5cab178",
   "metadata": {},
   "outputs": [],
   "source": [
    "\"\"\"Ïn this activity, you are tasked with creating a Python script for analyzing the financial records of your company. You will be provided with a financial dataset in this file: [budget_data.csv](PyBank/Resources/budget_data.csv). This dataset is composed of two columns, Date and Profit/Losses. (Thankfully, your company has rather lax standards for accounting, so the records are simple.)\n",
    "\n",
    "Your task is to create a Python script that analyzes the records to calculate each of the following:\n",
    "\n",
    "* The total number of months included in the dataset.\n",
    "\n",
    "* The net total amount of Profit/Losses over the entire period.\n",
    "\n",
    "* The average of the changes in Profit/Losses over the entire period.\n",
    "\n",
    "* The greatest increase in profits (date and amount) over the entire period.\n",
    "\n",
    "* The greatest decrease in losses (date and amount) over the entire period.\n",
    "\n",
    "The code starts by importing the csv module, which we'll use to read in the budget data from the budget_data.csv file.\n",
    "\n",
    "Next, we define three variables to track our financial data: total_months, total_profit_losses, and profit_losses_changes. \n",
    "The total_months variable will keep track of the total number of months in the dataset, the total_profit_losses variable \n",
    "will keep track of the total profit/losses for all months, and the profit_losses_changes variable will be a list that \n",
    "we'll use to calculate the average change in profit/losses and find the greatest increase and decrease in profit/losses.\n",
    "\n",
    "We also define an empty list months, which we'll use to store the month/year data from the Date column in the CSV file.\n",
    "\n",
    "Next, we use the with statement to open the CSV file and create a csv.reader object. We use the next() method to skip \n",
    "the header row, since we don't want to include it in our calculations.\n",
    "\n",
    "We then loop through each row of data using a for loop. For each row, we increment the total_months variable, \n",
    "add the profit/loss for the current month to the total_profit_losses variable, add the current month's profit/loss \n",
    "to the profit_losses_changes list, and add the current month/year to the months list.\n",
    "\n",
    "After the loop, we calculate the average change in profit/losses by dividing the sum of the profit_losses_changes \n",
    "list by the length of the list. We round this\n",
    "\n",
    "The code includes a calculation of the total number of months in the dataset using the len() function to count the number of rows in the dataset.\n",
    "\n",
    "The code calculates the net total amount of Profit/Losses over the entire period by summing up the Profit/Losses column using a for loop.\n",
    "\n",
    "The code calculates the average of the changes in Profit/Losses over the entire period by iterating over the Profit/Losses column using a\n",
    "for loop to calculate the difference between each consecutive month's Profit/Losses and then taking the average of those differences.\n",
    "\n",
    "The code calculates the greatest increase in profits over the entire period by iterating over the Profit/Losses column using a for loop \n",
    "to find the maximum difference between consecutive months and then returning the date and amount of that difference.\n",
    "\n",
    "The code calculates the greatest decrease in losses over the entire period by iterating over the Profit/Losses column using a for loop to\n",
    "find the minimum difference between consecutive months and then returning the date and amount of that difference.\n",
    "\n",
    "The code prints the analysis using print() statements and exports the analysis to a text file using the with open() and file.write() statements.\n",
    "\n",
    "The code follows good coding practices by placing imports at the beginning of the file, using lowercase characters and underscores for\n",
    "variable and function names, and avoiding repetition through the use of loops and functions. It also uses concise logic and creative\n",
    "engineering where possible, such as using the zip() function to iterate over consecutive pairs of elements in the Profit/Losses column."
   ]
  },
  {
   "cell_type": "code",
   "execution_count": 42,
   "id": "0930b191-26df-496a-aa00-fef2cc6b8152",
   "metadata": {},
   "outputs": [],
   "source": [
    "# Import the pathlib and csv library\n",
    "from pathlib import Path\n",
    "import csv"
   ]
  },
  {
   "cell_type": "code",
   "execution_count": 43,
   "id": "5fb8b6f6-ac60-49ff-81e4-600ed64f08b0",
   "metadata": {},
   "outputs": [
    {
     "data": {
      "text/plain": [
       "WindowsPath('C:/Users/Charlie.Tannous/OneDrive/Uni/Repo/Module 2/python-challenge/PyBank')"
      ]
     },
     "execution_count": 43,
     "metadata": {},
     "output_type": "execute_result"
    }
   ],
   "source": [
    "#checking working path\n",
    "Path.cwd()"
   ]
  },
  {
   "cell_type": "code",
   "execution_count": 52,
   "id": "7911312e-2d3f-4ce5-b47a-a22b53688a6a",
   "metadata": {},
   "outputs": [],
   "source": [
    "# Set the file path\n",
    "csvpath = Path('Resources/budget_data.csv')"
   ]
  },
  {
   "cell_type": "code",
   "execution_count": 67,
   "id": "dd2921a2-8ed3-4aea-857a-b641610aaa2f",
   "metadata": {},
   "outputs": [],
   "source": [
    "# Initialize variable to hold profitloss changes\n",
    "profit_losses_changes = []"
   ]
  },
  {
   "cell_type": "code",
   "execution_count": 68,
   "id": "ec4f3f9d-baaa-4773-a6aa-1cad66baacee",
   "metadata": {},
   "outputs": [],
   "source": [
    "# Set up variables for tracking financial data\n",
    "total_months = 0\n",
    "total_profit_losses = 0\n",
    "# A list to store the changes in profit/losses between consecutive months\n",
    "profit_losses_changes = []\n",
    "# A list to store the month/year data from the Date column\n",
    "months = []"
   ]
  },
  {
   "cell_type": "code",
   "execution_count": 71,
   "id": "643f1842-b49b-42e8-ab47-c57417e8ced0",
   "metadata": {},
   "outputs": [],
   "source": [
    "# Open the input path as a file object; # Read in the budget data from the CSV file\n",
    "with open(csvpath, 'r') as csvfile:\n",
    "    \n",
    "  \n",
    "    # Pass in the csv file to the csv.reader() function\n",
    "    # (with ',' as the delmiter/separator) and return the csvreader object\n",
    "    csvreader = csv.reader(csvfile, delimiter=',')\n",
    "    header = next(csvreader) # Skip header row\n",
    "   \n",
    "    # Loop through each row of data\n",
    "    for row in csvreader:\n",
    "        total_months += 1 # increment the total number of months\n",
    "        total_profit_losses += int(row[1]) # add the profit/loss for this month to the total\n",
    "        \n",
    "        # Add the current month/year to the list of months\n",
    "        months.append(row[0])\n",
    "        # Add the current month's profit/loss to the list of changes in profit/loss\n",
    "        profit_losses_changes.append(int(row[1]))\n",
    "        \n",
    "        \n",
    "        # Calculate the average of the changes in Profit/Losses over the entire period\n",
    "    average_profit_losses_changes = round(sum(profit_losses_changes) / len(profit_losses_changes), 2)\n",
    "    \n",
    "    # Calculate the greatest increase in profits over the entire period\n",
    "    greatest_increase = max(profit_losses_changes)\n",
    "    greatest_increase_date = months[profit_losses_changes.index(greatest_increase)]\n",
    "    \n",
    "    # Calculate the greatest decrease in losses over the entire period\n",
    "    greatest_decrease = min(profit_losses_changes)\n",
    "    greatest_decrease_date = months[profit_losses_changes.index(greatest_decrease)]"
   ]
  },
  {
   "cell_type": "code",
   "execution_count": 72,
   "id": "cb3a785d-a029-4e1f-90b9-408fc70af328",
   "metadata": {},
   "outputs": [
    {
     "name": "stdout",
     "output_type": "stream",
     "text": [
      "Financial Analysis\n",
      "-----------------------\n",
      "Total Months: 172\n",
      "Total: $76765156\n",
      "Average  Change: $446309.05\n",
      "Greatest Increase in Profits: Feb-2012 ($1170593)\n",
      "Greatest Decrease in Profits: Sep-2013 ($-1196225)\n"
     ]
    }
   ],
   "source": [
    "# Print out the financial analysis\n",
    "print(\"Financial Analysis\")\n",
    "print(\"-----------------------\")\n",
    "print(f\"Total Months: {total_months}\")\n",
    "print(f\"Total: ${total_profit_losses}\")\n",
    "print(f\"Average  Change: ${average_profit_losses_changes}\")\n",
    "print(f\"Greatest Increase in Profits: {greatest_increase_date} (${greatest_increase})\")\n",
    "print(f\"Greatest Decrease in Profits: {greatest_decrease_date} (${greatest_decrease})\")"
   ]
  },
  {
   "cell_type": "code",
   "execution_count": null,
   "id": "86a6abd3-25a5-4851-95a2-bcc365dd8503",
   "metadata": {},
   "outputs": [],
   "source": []
  }
 ],
 "metadata": {
  "kernelspec": {
   "display_name": "Python 3 (ipykernel)",
   "language": "python",
   "name": "python3"
  },
  "language_info": {
   "codemirror_mode": {
    "name": "ipython",
    "version": 3
   },
   "file_extension": ".py",
   "mimetype": "text/x-python",
   "name": "python",
   "nbconvert_exporter": "python",
   "pygments_lexer": "ipython3",
   "version": "3.9.16"
  }
 },
 "nbformat": 4,
 "nbformat_minor": 5
}
