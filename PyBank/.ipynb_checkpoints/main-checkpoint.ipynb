{
 "cells": [
  {
   "cell_type": "code",
   "execution_count": 28,
   "id": "0930b191-26df-496a-aa00-fef2cc6b8152",
   "metadata": {},
   "outputs": [],
   "source": [
    "# Import the pathlib and csv library\n",
    "from pathlib import Path\n",
    "import csv"
   ]
  },
  {
   "cell_type": "code",
   "execution_count": 29,
   "id": "5fb8b6f6-ac60-49ff-81e4-600ed64f08b0",
   "metadata": {},
   "outputs": [
    {
     "data": {
      "text/plain": [
       "WindowsPath('C:/Users/Charlie.Tannous/OneDrive/Uni/Repo/Module 2/python-challenge/PyBank')"
      ]
     },
     "execution_count": 29,
     "metadata": {},
     "output_type": "execute_result"
    }
   ],
   "source": [
    "# checking working path\n",
    "Path.cwd()"
   ]
  },
  {
   "cell_type": "code",
   "execution_count": 30,
   "id": "7911312e-2d3f-4ce5-b47a-a22b53688a6a",
   "metadata": {},
   "outputs": [],
   "source": [
    "# Set the file path\n",
    "csvpath = Path(\"../PyBank/Resources/budget_data.csv\")\n"
   ]
  },
  {
   "cell_type": "code",
   "execution_count": 31,
   "id": "ec4f3f9d-baaa-4773-a6aa-1cad66baacee",
   "metadata": {},
   "outputs": [],
   "source": [
    "# Set up variables for tracking financial data\n",
    "#define three variables to track the financial data: total_months, total_profit_losses, and profit_losses_changes. \n",
    "\n",
    "# The total_months variable will keep track of the total number of months in the dataset\n",
    "total_months = 0\n",
    "\n",
    "# the total_profit_losses variable will keep track of the total profit/losses for all months\n",
    "total_profit_losses = 0\n",
    "\n",
    "# A list to store the changes in profit/losses between consecutive months\n",
    "# profit/losses find the greatest increase and decrease in profit/losses.\n",
    "profit_losses_changes = []\n",
    "\n",
    "# Define an empty list months to store the month/year data from the Date column in the CSV file.\n",
    "months = []"
   ]
  },
  {
   "cell_type": "code",
   "execution_count": 32,
   "id": "f0b8ea95-5675-460a-9ac5-0ce2321fa277",
   "metadata": {},
   "outputs": [],
   "source": [
    "# Open the input path as a file object; \n",
    "# Read in the budget data from the CSV file\n",
    "# use the with statement to open the CSV file and create a csv.reader object. \n",
    "# use the next() method to skip the header row\n",
    "\n",
    "with open(csvpath, 'r') as csvfile:\n",
    "      \n",
    "    # Pass in the csv file to the csv.reader() function\n",
    "    # (with ',' as the delmiter/separator) and return the csvreader object\n",
    "    csvreader = csv.reader(csvfile, delimiter=',')\n",
    "    \n",
    "    # Read the header row first (this ignores the header)\n",
    "    header = next(csvreader) \n",
    "    \n",
    "    # Loop through each row of data using a for loop. For each row, we increment the total_months variable\n",
    "    # add the profit/loss for the current month to the total_profit_losses variable, add the current month's profit/loss to the profit_losses_changes list, add the current month/year to the months list.\n",
    "\n",
    "    for row in csvreader:\n",
    "        total_months += 1 # increment the total number of months\n",
    "        total_profit_losses += int(row[1]) # add the profit/loss for this month to the total\n",
    "        \n",
    "        # Add the current month/year to the list of months\n",
    "        months.append(row[0])\n",
    "        # Add the current month's profit/loss to the list of changes in profit/loss\n",
    "        profit_losses_changes.append(int(row[1]))\n",
    "        "
   ]
  },
  {
   "cell_type": "code",
   "execution_count": 33,
   "id": "1f8a573d-ee22-43f6-82af-46117d69ab06",
   "metadata": {},
   "outputs": [],
   "source": [
    "# After the loop, we calculate the average change in profit/losses by dividing the sum of the profit_losses_changes list by the length of the list\n",
    "# use the len() function to count the number of rows in the dataset.\n",
    "average_profit_losses_changes = round(sum(profit_losses_changes) / len(profit_losses_changes), 2)\n",
    "    "
   ]
  },
  {
   "cell_type": "code",
   "execution_count": 34,
   "id": "17319d35-aedb-42a4-9430-22d497e53c3a",
   "metadata": {},
   "outputs": [],
   "source": [
    "# Calculate the greatest increase in profits over the entire period\n",
    "# The max() function is used to find the maximum value in the profit_losses_changes list. This maximum value represents the greatest increase in profit/losses, which is then stored in the greatest_increase variable.\n",
    "# The index() function is called on the profit_losses_changes list, passing greatest_increase as an argument. This returns the index of the greatest increase in the list. Then, the months list is accessed using that index to get the corresponding date, which is stored in the greatest_increase_date variable.\n",
    "greatest_increase = max(profit_losses_changes)\n",
    "greatest_increase_date = months[profit_losses_changes.index(greatest_increase)]\n",
    "    "
   ]
  },
  {
   "cell_type": "code",
   "execution_count": 35,
   "id": "563bda1d-5f2a-49a9-8122-a99df6e6f889",
   "metadata": {},
   "outputs": [],
   "source": [
    "# Calculate the greatest decrease in losses over the entire period\n",
    "# The min() function is used to find the minimum value in the profit_losses_changes list. This minimum value represents the greatest decrease in profit/losses, which is then stored in the greatest_decrease variable.\n",
    "# The index() function is called on the profit_losses_changes list, passing greatest_decrease as an argument. This returns the index of the greatest decrease in the list. Then, the months list is accessed using that index to get the corresponding date, which is stored in the greatest_decrease_date variable.\n",
    "greatest_decrease = min(profit_losses_changes)\n",
    "greatest_decrease_date = months[profit_losses_changes.index(greatest_decrease)]"
   ]
  },
  {
   "cell_type": "code",
   "execution_count": 36,
   "id": "cb3a785d-a029-4e1f-90b9-408fc70af328",
   "metadata": {},
   "outputs": [
    {
     "name": "stdout",
     "output_type": "stream",
     "text": [
      "Financial Analysis\n",
      "-----------------------\n",
      "Total Months: 86\n",
      "Total: $38382578\n",
      "Average  Change: $446309.05\n",
      "Greatest Increase in Profits: Feb-2012 ($1170593)\n",
      "Greatest Decrease in Profits: Sep-2013 ($-1196225)\n"
     ]
    }
   ],
   "source": [
    "# Print out the financial analysis\n",
    "print(\"Financial Analysis\")\n",
    "print(\"-----------------------\")\n",
    "print(f\"Total Months: {total_months}\")\n",
    "print(f\"Total: ${total_profit_losses}\")\n",
    "print(f\"Average  Change: ${average_profit_losses_changes}\")\n",
    "print(f\"Greatest Increase in Profits: {greatest_increase_date} (${greatest_increase})\")\n",
    "print(f\"Greatest Decrease in Profits: {greatest_decrease_date} (${greatest_decrease})\")"
   ]
  },
  {
   "cell_type": "code",
   "execution_count": 37,
   "id": "dffc65dd-de76-439c-812b-c658da8217cb",
   "metadata": {},
   "outputs": [],
   "source": [
    "#Print the analysis and export the analysis to a text file that contains the final results\n",
    "\n",
    "# Set the output file path\n",
    "output_path = Path(\"output.txt\")\n",
    "\n",
    "# Open the output_path as a file object in \"write\" mode ('w')\n",
    "\n",
    "#This code will write the output of the print statements to a text file named output.txt\n",
    "with open(output_path, 'w') as file:\n",
    "    file.write(\"Financial Analysis\\n\")\n",
    "    file.write(\"-----------------------\\n\")\n",
    "    file.write(f\"Total Months: {total_months}\\n\")\n",
    "    file.write(f\"Total: ${total_profit_losses}\\n\")\n",
    "    file.write(f\"Average  Change: ${average_profit_losses_changes}\\n\")\n",
    "    file.write(f\"Greatest Increase in Profits: {greatest_increase_date} (${greatest_increase})\\n\")\n",
    "    file.write(f\"Greatest Decrease in Profits: {greatest_decrease_date} (${greatest_decrease})\\n\")\n",
    "   \n"
   ]
  },
  {
   "cell_type": "code",
   "execution_count": null,
   "id": "b2e6e56e-3ac7-4d9d-843e-b4ba4599617d",
   "metadata": {},
   "outputs": [],
   "source": []
  }
 ],
 "metadata": {
  "kernelspec": {
   "display_name": "Python 3 (ipykernel)",
   "language": "python",
   "name": "python3"
  },
  "language_info": {
   "codemirror_mode": {
    "name": "ipython",
    "version": 3
   },
   "file_extension": ".py",
   "mimetype": "text/x-python",
   "name": "python",
   "nbconvert_exporter": "python",
   "pygments_lexer": "ipython3",
   "version": "3.9.16"
  }
 },
 "nbformat": 4,
 "nbformat_minor": 5
}
